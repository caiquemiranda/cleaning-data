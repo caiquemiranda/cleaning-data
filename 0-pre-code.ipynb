{
 "cells": [
  {
   "cell_type": "code",
   "execution_count": 4,
   "metadata": {},
   "outputs": [
    {
     "name": "stdout",
     "output_type": "stream",
     "text": [
      "\n",
      "Student#,Last Name,First Name,Favorite Color,Age\n",
      "1,Johnson,Mia,periwinkle,12\n",
      "2,Lopez,Liam,blue,green,13\n",
      "3,Lee,Isabella,,11\n",
      "4,Fisher,Mason,gray,-1\n",
      "5,Gupta,Olivia,9,102\n",
      "6,,Robinson,,Sophia,,blue,,12\n",
      "\n"
     ]
    }
   ],
   "source": [
    "from intro_students import data, cleaned\n",
    "print(data)"
   ]
  },
  {
   "cell_type": "code",
   "execution_count": 5,
   "metadata": {},
   "outputs": [
    {
     "data": {
      "text/html": [
       "<div>\n",
       "<style scoped>\n",
       "    .dataframe tbody tr th:only-of-type {\n",
       "        vertical-align: middle;\n",
       "    }\n",
       "\n",
       "    .dataframe tbody tr th {\n",
       "        vertical-align: top;\n",
       "    }\n",
       "\n",
       "    .dataframe thead th {\n",
       "        text-align: right;\n",
       "    }\n",
       "</style>\n",
       "<table border=\"1\" class=\"dataframe\">\n",
       "  <thead>\n",
       "    <tr style=\"text-align: right;\">\n",
       "      <th></th>\n",
       "      <th>Last_Name</th>\n",
       "      <th>First_Name</th>\n",
       "      <th>Favorite_Color</th>\n",
       "      <th>Age</th>\n",
       "    </tr>\n",
       "    <tr>\n",
       "      <th>Student_No</th>\n",
       "      <th></th>\n",
       "      <th></th>\n",
       "      <th></th>\n",
       "      <th></th>\n",
       "    </tr>\n",
       "  </thead>\n",
       "  <tbody>\n",
       "    <tr>\n",
       "      <th>1</th>\n",
       "      <td>Johnson</td>\n",
       "      <td>Mia</td>\n",
       "      <td>periwinkle</td>\n",
       "      <td>12.0</td>\n",
       "    </tr>\n",
       "    <tr>\n",
       "      <th>2</th>\n",
       "      <td>Lopez</td>\n",
       "      <td>Liam</td>\n",
       "      <td>blue-green</td>\n",
       "      <td>13.0</td>\n",
       "    </tr>\n",
       "    <tr>\n",
       "      <th>3</th>\n",
       "      <td>Lee</td>\n",
       "      <td>Isabella</td>\n",
       "      <td>&lt;missing&gt;</td>\n",
       "      <td>11.0</td>\n",
       "    </tr>\n",
       "    <tr>\n",
       "      <th>4</th>\n",
       "      <td>Fisher</td>\n",
       "      <td>Mason</td>\n",
       "      <td>gray</td>\n",
       "      <td>NaN</td>\n",
       "    </tr>\n",
       "    <tr>\n",
       "      <th>5</th>\n",
       "      <td>Gupta</td>\n",
       "      <td>Olivia</td>\n",
       "      <td>sepia</td>\n",
       "      <td>NaN</td>\n",
       "    </tr>\n",
       "    <tr>\n",
       "      <th>6</th>\n",
       "      <td>Robinson</td>\n",
       "      <td>Sophia</td>\n",
       "      <td>blue</td>\n",
       "      <td>12.0</td>\n",
       "    </tr>\n",
       "  </tbody>\n",
       "</table>\n",
       "</div>"
      ],
      "text/plain": [
       "           Last_Name First_Name Favorite_Color   Age\n",
       "Student_No                                          \n",
       "1            Johnson        Mia     periwinkle  12.0\n",
       "2              Lopez       Liam     blue-green  13.0\n",
       "3                Lee   Isabella      <missing>  11.0\n",
       "4             Fisher      Mason           gray   NaN\n",
       "5              Gupta     Olivia          sepia   NaN\n",
       "6           Robinson     Sophia           blue  12.0"
      ]
     },
     "execution_count": 5,
     "metadata": {},
     "output_type": "execute_result"
    }
   ],
   "source": [
    "cleaned"
   ]
  },
  {
   "cell_type": "code",
   "execution_count": 6,
   "metadata": {},
   "outputs": [
    {
     "name": "stdout",
     "output_type": "stream",
     "text": [
      "The rpy2.ipython extension is already loaded. To reload it, use:\n",
      "  %reload_ext rpy2.ipython\n"
     ]
    }
   ],
   "source": [
    "%load_ext rpy2.ipython"
   ]
  },
  {
   "cell_type": "code",
   "execution_count": null,
   "metadata": {},
   "outputs": [],
   "source": [
    "%%R -i cleaned\n",
    "library('tibble')\n",
    "\n",
    "# renomeando as colunas\n",
    "tibble(First=cleaned$First_Name,\n",
    "       Last=cleaned$Last_Name,\n",
    "       Age=cleaned$Age)"
   ]
  },
  {
   "cell_type": "code",
   "execution_count": 9,
   "metadata": {},
   "outputs": [
    {
     "name": "stdout",
     "output_type": "stream",
     "text": [
      "Fisher Mason\n",
      "Gupta Olivia\n",
      "Johnson Mia\n",
      "Lee Isabella\n",
      "Lopez Liam\n",
      "Robinson Sophia\n"
     ]
    }
   ],
   "source": [
    "%%bash\n",
    "sed s/,,/,/g data/students.csv |\n",
    "    cut -f2,3 -d, |\n",
    "    tail -n +2 |\n",
    "    tr , ' ' |\n",
    "    sort"
   ]
  }
 ],
 "metadata": {
  "kernelspec": {
   "display_name": "Python 3",
   "language": "python",
   "name": "python3"
  },
  "language_info": {
   "codemirror_mode": {
    "name": "ipython",
    "version": 3
   },
   "file_extension": ".py",
   "mimetype": "text/x-python",
   "name": "python",
   "nbconvert_exporter": "python",
   "pygments_lexer": "ipython3",
   "version": "3.10.5"
  },
  "orig_nbformat": 4
 },
 "nbformat": 4,
 "nbformat_minor": 2
}
